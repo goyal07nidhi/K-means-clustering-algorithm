{
 "cells": [
  {
   "cell_type": "markdown",
   "id": "written-harrison",
   "metadata": {},
   "source": [
    "# Implement K Means Clustering Algorithm\n",
    "\n",
    "### Submitted by: Nidhi Goyal"
   ]
  },
  {
   "cell_type": "markdown",
   "id": "legal-trace",
   "metadata": {},
   "source": [
    "## I. Module imports"
   ]
  },
  {
   "cell_type": "code",
   "execution_count": 1,
   "id": "gross-sending",
   "metadata": {},
   "outputs": [],
   "source": [
    "import pandas as pd\n",
    "import numpy as np\n",
    "import matplotlib.pyplot as plt\n",
    "import seaborn as sns\n",
    "%matplotlib inline"
   ]
  },
  {
   "cell_type": "markdown",
   "id": "cultural-bradley",
   "metadata": {},
   "source": [
    "## II. K Means Algorithm"
   ]
  },
  {
   "cell_type": "markdown",
   "id": "liquid-freeware",
   "metadata": {},
   "source": [
    "### What is K Means Clustering?\n",
    "\n",
    "K Means Clustering is an unsupervised machine learning algorithm. It will also work on unlabelled data.\n",
    "\n",
    "Methodology for the K Means algorithm:\n",
    "\n",
    "1. Choose the value of k(number of clusters) in the dataset\n",
    "2. To start as your centroids, randomly select clusters featuresets\n",
    "3. Calculate distance of all other featuresets to centroids\n",
    "4. Find clusters by min distance from centroid\n",
    "5. Classify all the featuresets as same as closest centroid\n",
    "6. Take mean of each cluter (mean of all featuresets by cluster), making that mean the new centroid\n",
    "7. Repeat steps 3-6 until optimized (value of new centroid and previous centroid will be same)\n",
    "\n",
    "8. Predict function is to predict the test data that featureset belongs to which cluster"
   ]
  },
  {
   "cell_type": "code",
   "execution_count": 2,
   "id": "sticky-boost",
   "metadata": {},
   "outputs": [],
   "source": [
    "# KMeans Algorithm\n",
    "\n",
    "class KMeansClustering:\n",
    "    def __init__(self, dataset, num_clusters, random_state=42):\n",
    "        self.dataset = dataset\n",
    "        self.k = num_clusters\n",
    "        self.cluster_groups = {}\n",
    "        self.labels = np.zeros((dataset.shape[0], 1))\n",
    "        np.random.seed(random_state)\n",
    "        \n",
    "    #  Create random centroids.\n",
    "    def create_centroids(self):\n",
    "        size = np.shape(self.dataset)[0]\n",
    "        \n",
    "        idx = np.random.randint(0, size - 1)\n",
    "        centroid = np.array([self.dataset[idx]])\n",
    "\n",
    "        for _ in range(1, self.k):\n",
    "            idx = np.random.randint(0, size - 1)\n",
    "            centroid = np.append(centroid, [self.dataset[idx]], axis=0)\n",
    "\n",
    "        self.centroids = centroid\n",
    "    \n",
    "    # Calculate the euclidean distance\n",
    "    def euclidean_distance(self, a, b):\n",
    "        return np.sqrt(np.sum(np.square(a - b)))\n",
    "    \n",
    "    # Using euclidean distance, find the cluster for featuresets\n",
    "    def find_cluster(self, feature_set):\n",
    "        distances = [self.euclidean_distance(feature_set, centroid) for centroid in self.centroids]\n",
    "        target_cluster = np.argmin(distances)\n",
    "        return target_cluster\n",
    "    \n",
    "    # Classify the clusters\n",
    "    def classify(self):\n",
    "        for i in range(self.k):\n",
    "            self.cluster_groups[i] = []\n",
    "\n",
    "        idx = 0\n",
    "        for feature_set in self.dataset:\n",
    "            target_cluster_id = self.find_cluster(feature_set)\n",
    "            self.cluster_groups[target_cluster_id].append(feature_set)\n",
    "            self.labels[idx] = target_cluster_id\n",
    "            idx = idx + 1\n",
    "\n",
    "        for i in range(self.k):\n",
    "            self.cluster_groups[i] = np.array(self.cluster_groups[i])\n",
    "    \n",
    "    # Recompute the centroid by taking mean   \n",
    "    def recompute_centroids(self):\n",
    "        for cluster_id in self.cluster_groups:\n",
    "            self.centroids[cluster_id] = np.mean(self.cluster_groups[cluster_id], axis=0)\n",
    "        \n",
    "    # Check the centroid is optimized or not\n",
    "    def is_centroid_optimized(self, prev_centroids):        \n",
    "        for i in range(self.k):\n",
    "            curr = self.centroids[i]\n",
    "            prev = prev_centroids[i]\n",
    "\n",
    "            if self.euclidean_distance(curr, prev) != 0:\n",
    "                return False\n",
    "\n",
    "        return True\n",
    "    \n",
    "    def fit(self, max_iterations=300):\n",
    "        # 1. Create random centroids\n",
    "        self.create_centroids()\n",
    "\n",
    "        for iter in range(max_iterations):\n",
    "            # 2. Classify featureset into clusters\n",
    "            self.classify()\n",
    "\n",
    "            # 3. Calculate new centroids\n",
    "            prev_centroids = np.copy(self.centroids)\n",
    "            self.recompute_centroids()\n",
    "\n",
    "            # 4. Check if centroids are optimized\n",
    "            if self.is_centroid_optimized(prev_centroids):\n",
    "                break\n",
    "\n",
    "        return self.cluster_groups, self.centroids, self.labels\n",
    "    \n",
    "    # To predict any featureset who belongs to which cluster\n",
    "    def predict(self, test_data):\n",
    "        cluster = np.empty(test_data.shape[0])\n",
    "        for feature_set in test_data:\n",
    "            cluster.append(self.find_cluster(feature_set))\n",
    "        return cluster\n",
    "    \n",
    "    def inertia(self):\n",
    "        inertia = 0\n",
    "        for i in range(self.k):\n",
    "            centroid = self.centroids[i]\n",
    "            cluster = self.cluster_groups[i]\n",
    "            for feature in cluster:\n",
    "                inertia += self.euclidean_distance(feature, centroid)\n",
    "        \n",
    "        return inertia"
   ]
  },
  {
   "cell_type": "markdown",
   "id": "comfortable-developer",
   "metadata": {},
   "source": [
    "# III. Data input"
   ]
  },
  {
   "cell_type": "code",
   "execution_count": 3,
   "id": "exceptional-ideal",
   "metadata": {},
   "outputs": [
    {
     "name": "stdout",
     "output_type": "stream",
     "text": [
      "(200, 5)\n"
     ]
    },
    {
     "data": {
      "text/html": [
       "<div>\n",
       "<style scoped>\n",
       "    .dataframe tbody tr th:only-of-type {\n",
       "        vertical-align: middle;\n",
       "    }\n",
       "\n",
       "    .dataframe tbody tr th {\n",
       "        vertical-align: top;\n",
       "    }\n",
       "\n",
       "    .dataframe thead th {\n",
       "        text-align: right;\n",
       "    }\n",
       "</style>\n",
       "<table border=\"1\" class=\"dataframe\">\n",
       "  <thead>\n",
       "    <tr style=\"text-align: right;\">\n",
       "      <th></th>\n",
       "      <th>CustomerID</th>\n",
       "      <th>Gender</th>\n",
       "      <th>Age</th>\n",
       "      <th>Annual Income (k$)</th>\n",
       "      <th>Spending Score (1-100)</th>\n",
       "    </tr>\n",
       "  </thead>\n",
       "  <tbody>\n",
       "    <tr>\n",
       "      <th>0</th>\n",
       "      <td>1</td>\n",
       "      <td>Male</td>\n",
       "      <td>19</td>\n",
       "      <td>15</td>\n",
       "      <td>39</td>\n",
       "    </tr>\n",
       "    <tr>\n",
       "      <th>1</th>\n",
       "      <td>2</td>\n",
       "      <td>Male</td>\n",
       "      <td>21</td>\n",
       "      <td>15</td>\n",
       "      <td>81</td>\n",
       "    </tr>\n",
       "    <tr>\n",
       "      <th>2</th>\n",
       "      <td>3</td>\n",
       "      <td>Female</td>\n",
       "      <td>20</td>\n",
       "      <td>16</td>\n",
       "      <td>6</td>\n",
       "    </tr>\n",
       "    <tr>\n",
       "      <th>3</th>\n",
       "      <td>4</td>\n",
       "      <td>Female</td>\n",
       "      <td>23</td>\n",
       "      <td>16</td>\n",
       "      <td>77</td>\n",
       "    </tr>\n",
       "    <tr>\n",
       "      <th>4</th>\n",
       "      <td>5</td>\n",
       "      <td>Female</td>\n",
       "      <td>31</td>\n",
       "      <td>17</td>\n",
       "      <td>40</td>\n",
       "    </tr>\n",
       "  </tbody>\n",
       "</table>\n",
       "</div>"
      ],
      "text/plain": [
       "   CustomerID  Gender  Age  Annual Income (k$)  Spending Score (1-100)\n",
       "0           1    Male   19                  15                      39\n",
       "1           2    Male   21                  15                      81\n",
       "2           3  Female   20                  16                       6\n",
       "3           4  Female   23                  16                      77\n",
       "4           5  Female   31                  17                      40"
      ]
     },
     "execution_count": 3,
     "metadata": {},
     "output_type": "execute_result"
    }
   ],
   "source": [
    "# Read the dataset csv file and store the data into dataframe\n",
    "\n",
    "dataset = pd.read_csv('Mall_Customers.csv')\n",
    "print(dataset.shape)\n",
    "dataset.head(5)"
   ]
  },
  {
   "cell_type": "markdown",
   "id": "generous-conjunction",
   "metadata": {},
   "source": [
    "# IV. Exploratory Data Analysis"
   ]
  },
  {
   "cell_type": "code",
   "execution_count": 4,
   "id": "declared-elder",
   "metadata": {},
   "outputs": [
    {
     "name": "stdout",
     "output_type": "stream",
     "text": [
      "<class 'pandas.core.frame.DataFrame'>\n",
      "RangeIndex: 200 entries, 0 to 199\n",
      "Data columns (total 5 columns):\n",
      " #   Column                  Non-Null Count  Dtype \n",
      "---  ------                  --------------  ----- \n",
      " 0   CustomerID              200 non-null    int64 \n",
      " 1   Gender                  200 non-null    object\n",
      " 2   Age                     200 non-null    int64 \n",
      " 3   Annual Income (k$)      200 non-null    int64 \n",
      " 4   Spending Score (1-100)  200 non-null    int64 \n",
      "dtypes: int64(4), object(1)\n",
      "memory usage: 7.9+ KB\n"
     ]
    }
   ],
   "source": [
    "dataset.info()"
   ]
  },
  {
   "cell_type": "code",
   "execution_count": 5,
   "id": "gross-cooperative",
   "metadata": {},
   "outputs": [
    {
     "data": {
      "text/plain": [
       "CustomerID                0\n",
       "Gender                    0\n",
       "Age                       0\n",
       "Annual Income (k$)        0\n",
       "Spending Score (1-100)    0\n",
       "dtype: int64"
      ]
     },
     "execution_count": 5,
     "metadata": {},
     "output_type": "execute_result"
    }
   ],
   "source": [
    "# Let's check if is there any null values in the dataset\n",
    "\n",
    "dataset.isnull().sum()"
   ]
  },
  {
   "cell_type": "code",
   "execution_count": 6,
   "id": "authorized-probability",
   "metadata": {},
   "outputs": [
    {
     "data": {
      "text/plain": [
       "0"
      ]
     },
     "execution_count": 6,
     "metadata": {},
     "output_type": "execute_result"
    }
   ],
   "source": [
    "# Let's check if is there any duplicated values in the dataset\n",
    "\n",
    "dataset.duplicated().sum()"
   ]
  },
  {
   "cell_type": "code",
   "execution_count": 7,
   "id": "handy-thomson",
   "metadata": {},
   "outputs": [
    {
     "name": "stdout",
     "output_type": "stream",
     "text": [
      "(200, 2)\n"
     ]
    },
    {
     "data": {
      "text/html": [
       "<div>\n",
       "<style scoped>\n",
       "    .dataframe tbody tr th:only-of-type {\n",
       "        vertical-align: middle;\n",
       "    }\n",
       "\n",
       "    .dataframe tbody tr th {\n",
       "        vertical-align: top;\n",
       "    }\n",
       "\n",
       "    .dataframe thead th {\n",
       "        text-align: right;\n",
       "    }\n",
       "</style>\n",
       "<table border=\"1\" class=\"dataframe\">\n",
       "  <thead>\n",
       "    <tr style=\"text-align: right;\">\n",
       "      <th></th>\n",
       "      <th>Annual Income (k$)</th>\n",
       "      <th>Spending Score (1-100)</th>\n",
       "    </tr>\n",
       "  </thead>\n",
       "  <tbody>\n",
       "    <tr>\n",
       "      <th>0</th>\n",
       "      <td>15</td>\n",
       "      <td>39</td>\n",
       "    </tr>\n",
       "    <tr>\n",
       "      <th>1</th>\n",
       "      <td>15</td>\n",
       "      <td>81</td>\n",
       "    </tr>\n",
       "    <tr>\n",
       "      <th>2</th>\n",
       "      <td>16</td>\n",
       "      <td>6</td>\n",
       "    </tr>\n",
       "    <tr>\n",
       "      <th>3</th>\n",
       "      <td>16</td>\n",
       "      <td>77</td>\n",
       "    </tr>\n",
       "    <tr>\n",
       "      <th>4</th>\n",
       "      <td>17</td>\n",
       "      <td>40</td>\n",
       "    </tr>\n",
       "  </tbody>\n",
       "</table>\n",
       "</div>"
      ],
      "text/plain": [
       "   Annual Income (k$)  Spending Score (1-100)\n",
       "0                  15                      39\n",
       "1                  15                      81\n",
       "2                  16                       6\n",
       "3                  16                      77\n",
       "4                  17                      40"
      ]
     },
     "execution_count": 7,
     "metadata": {},
     "output_type": "execute_result"
    }
   ],
   "source": [
    "# select columns you need\n",
    "\n",
    "data = dataset[['Annual Income (k$)','Spending Score (1-100)']]\n",
    "print(data.shape)\n",
    "data.head(5)"
   ]
  },
  {
   "cell_type": "markdown",
   "id": "coordinate-summit",
   "metadata": {},
   "source": [
    "# V. Data Pre-processing"
   ]
  },
  {
   "cell_type": "markdown",
   "id": "oriental-filename",
   "metadata": {},
   "source": [
    "### The K-means clustering algorithm has a few key assumptions about the data: \n",
    "#### (1) data is not skewed\n",
    "#### (2) features have the same mean\n",
    "#### (3) features have the same variance"
   ]
  },
  {
   "cell_type": "code",
   "execution_count": 8,
   "id": "excellent-census",
   "metadata": {},
   "outputs": [
    {
     "data": {
      "text/html": [
       "<div>\n",
       "<style scoped>\n",
       "    .dataframe tbody tr th:only-of-type {\n",
       "        vertical-align: middle;\n",
       "    }\n",
       "\n",
       "    .dataframe tbody tr th {\n",
       "        vertical-align: top;\n",
       "    }\n",
       "\n",
       "    .dataframe thead th {\n",
       "        text-align: right;\n",
       "    }\n",
       "</style>\n",
       "<table border=\"1\" class=\"dataframe\">\n",
       "  <thead>\n",
       "    <tr style=\"text-align: right;\">\n",
       "      <th></th>\n",
       "      <th>Annual Income (k$)</th>\n",
       "      <th>Spending Score (1-100)</th>\n",
       "    </tr>\n",
       "  </thead>\n",
       "  <tbody>\n",
       "    <tr>\n",
       "      <th>count</th>\n",
       "      <td>200.000000</td>\n",
       "      <td>200.000000</td>\n",
       "    </tr>\n",
       "    <tr>\n",
       "      <th>mean</th>\n",
       "      <td>60.560000</td>\n",
       "      <td>50.200000</td>\n",
       "    </tr>\n",
       "    <tr>\n",
       "      <th>std</th>\n",
       "      <td>26.264721</td>\n",
       "      <td>25.823522</td>\n",
       "    </tr>\n",
       "    <tr>\n",
       "      <th>min</th>\n",
       "      <td>15.000000</td>\n",
       "      <td>1.000000</td>\n",
       "    </tr>\n",
       "    <tr>\n",
       "      <th>25%</th>\n",
       "      <td>41.500000</td>\n",
       "      <td>34.750000</td>\n",
       "    </tr>\n",
       "    <tr>\n",
       "      <th>50%</th>\n",
       "      <td>61.500000</td>\n",
       "      <td>50.000000</td>\n",
       "    </tr>\n",
       "    <tr>\n",
       "      <th>75%</th>\n",
       "      <td>78.000000</td>\n",
       "      <td>73.000000</td>\n",
       "    </tr>\n",
       "    <tr>\n",
       "      <th>max</th>\n",
       "      <td>137.000000</td>\n",
       "      <td>99.000000</td>\n",
       "    </tr>\n",
       "  </tbody>\n",
       "</table>\n",
       "</div>"
      ],
      "text/plain": [
       "       Annual Income (k$)  Spending Score (1-100)\n",
       "count          200.000000              200.000000\n",
       "mean            60.560000               50.200000\n",
       "std             26.264721               25.823522\n",
       "min             15.000000                1.000000\n",
       "25%             41.500000               34.750000\n",
       "50%             61.500000               50.000000\n",
       "75%             78.000000               73.000000\n",
       "max            137.000000               99.000000"
      ]
     },
     "execution_count": 8,
     "metadata": {},
     "output_type": "execute_result"
    }
   ],
   "source": [
    "# To generate descriptive statistics.\n",
    "\n",
    "data.describe()"
   ]
  },
  {
   "cell_type": "code",
   "execution_count": 9,
   "id": "binding-operations",
   "metadata": {
    "scrolled": true
   },
   "outputs": [
    {
     "data": {
      "text/plain": [
       "<seaborn.axisgrid.PairGrid at 0x7fe43307a390>"
      ]
     },
     "execution_count": 9,
     "metadata": {},
     "output_type": "execute_result"
    },
    {
     "data": {
      "image/png": "[encoded data removed]",
      "text/plain": [
       "<Figure size 360x360 with 6 Axes>"
      ]
     },
     "metadata": {
      "needs_background": "light"
     },
     "output_type": "display_data"
    }
   ],
   "source": [
    "sns.pairplot(data)"
   ]
  },
  {
   "cell_type": "markdown",
   "id": "smoking-intermediate",
   "metadata": {},
   "source": [
    "This data in not extreme. Since, here mean and standard deviation of both the column have a little diffferent value, so we can try normalizing our data."
   ]
  },
  {
   "cell_type": "code",
   "execution_count": 10,
   "id": "cultural-winter",
   "metadata": {},
   "outputs": [],
   "source": [
    "# x_new = (x - x_min) / (x_max - x_min)\n",
    "def normalize(x):\n",
    "    x_new = np.zeros((x.shape[0], x.shape[1]))\n",
    "    for col in range(x.shape[1]):\n",
    "        min_val = np.min(x, 0)[col]\n",
    "        max_val = np.max(x, 0)[col]\n",
    "\n",
    "        for row in range(x.shape[0]):\n",
    "            x_new[row,col] = (x[row,col] - min_val) / (max_val - min_val)\n",
    "\n",
    "    return x_new"
   ]
  },
  {
   "cell_type": "code",
   "execution_count": 11,
   "id": "corresponding-dutch",
   "metadata": {},
   "outputs": [],
   "source": [
    "data_np = data.to_numpy()\n",
    "normalized_data_np = normalize(data_np)\n",
    "normalized_data_df = pd.DataFrame(normalized_data_np, columns=data.columns)"
   ]
  },
  {
   "cell_type": "code",
   "execution_count": 12,
   "id": "nutritional-nightmare",
   "metadata": {},
   "outputs": [
    {
     "data": {
      "text/html": [
       "<div>\n",
       "<style scoped>\n",
       "    .dataframe tbody tr th:only-of-type {\n",
       "        vertical-align: middle;\n",
       "    }\n",
       "\n",
       "    .dataframe tbody tr th {\n",
       "        vertical-align: top;\n",
       "    }\n",
       "\n",
       "    .dataframe thead th {\n",
       "        text-align: right;\n",
       "    }\n",
       "</style>\n",
       "<table border=\"1\" class=\"dataframe\">\n",
       "  <thead>\n",
       "    <tr style=\"text-align: right;\">\n",
       "      <th></th>\n",
       "      <th>Annual Income (k$)</th>\n",
       "      <th>Spending Score (1-100)</th>\n",
       "    </tr>\n",
       "  </thead>\n",
       "  <tbody>\n",
       "    <tr>\n",
       "      <th>count</th>\n",
       "      <td>200.000000</td>\n",
       "      <td>200.000000</td>\n",
       "    </tr>\n",
       "    <tr>\n",
       "      <th>mean</th>\n",
       "      <td>0.373443</td>\n",
       "      <td>0.502041</td>\n",
       "    </tr>\n",
       "    <tr>\n",
       "      <th>std</th>\n",
       "      <td>0.215285</td>\n",
       "      <td>0.263505</td>\n",
       "    </tr>\n",
       "    <tr>\n",
       "      <th>min</th>\n",
       "      <td>0.000000</td>\n",
       "      <td>0.000000</td>\n",
       "    </tr>\n",
       "    <tr>\n",
       "      <th>25%</th>\n",
       "      <td>0.217213</td>\n",
       "      <td>0.344388</td>\n",
       "    </tr>\n",
       "    <tr>\n",
       "      <th>50%</th>\n",
       "      <td>0.381148</td>\n",
       "      <td>0.500000</td>\n",
       "    </tr>\n",
       "    <tr>\n",
       "      <th>75%</th>\n",
       "      <td>0.516393</td>\n",
       "      <td>0.734694</td>\n",
       "    </tr>\n",
       "    <tr>\n",
       "      <th>max</th>\n",
       "      <td>1.000000</td>\n",
       "      <td>1.000000</td>\n",
       "    </tr>\n",
       "  </tbody>\n",
       "</table>\n",
       "</div>"
      ],
      "text/plain": [
       "       Annual Income (k$)  Spending Score (1-100)\n",
       "count          200.000000              200.000000\n",
       "mean             0.373443                0.502041\n",
       "std              0.215285                0.263505\n",
       "min              0.000000                0.000000\n",
       "25%              0.217213                0.344388\n",
       "50%              0.381148                0.500000\n",
       "75%              0.516393                0.734694\n",
       "max              1.000000                1.000000"
      ]
     },
     "execution_count": 12,
     "metadata": {},
     "output_type": "execute_result"
    }
   ],
   "source": [
    "# Describe the normalized dataframe\n",
    "\n",
    "normalized_data_df.describe()"
   ]
  },
  {
   "cell_type": "code",
   "execution_count": 13,
   "id": "saving-marina",
   "metadata": {},
   "outputs": [
    {
     "data": {
      "text/plain": [
       "<seaborn.axisgrid.PairGrid at 0x7fe4333445d0>"
      ]
     },
     "execution_count": 13,
     "metadata": {},
     "output_type": "execute_result"
    },
    {
     "data": {
      "image/png": "[encoded data removed]",
      "text/plain": [
       "<Figure size 360x360 with 6 Axes>"
      ]
     },
     "metadata": {
      "needs_background": "light"
     },
     "output_type": "display_data"
    }
   ],
   "source": [
    "sns.pairplot(normalized_data_df)"
   ]
  },
  {
   "cell_type": "markdown",
   "id": "closing-newton",
   "metadata": {},
   "source": [
    "# VI. Apply KMeans Clustering"
   ]
  },
  {
   "cell_type": "markdown",
   "id": "charming-danish",
   "metadata": {},
   "source": [
    "## 1. Elbow Method"
   ]
  },
  {
   "cell_type": "code",
   "execution_count": 14,
   "id": "cardiac-marketing",
   "metadata": {},
   "outputs": [
    {
     "data": {
      "text/plain": [
       "<matplotlib.axes._subplots.AxesSubplot at 0x7fe433367690>"
      ]
     },
     "execution_count": 14,
     "metadata": {},
     "output_type": "execute_result"
    },
    {
     "data": {
      "image/png": "[encoded data removed]",
      "text/plain": [
       "<Figure size 864x576 with 1 Axes>"
      ]
     },
     "metadata": {
      "needs_background": "light"
     },
     "output_type": "display_data"
    }
   ],
   "source": [
    "ss_error = {}\n",
    "\n",
    "for num in range(1,9):\n",
    "    kMeans = KMeansClustering(normalized_data_np, num_clusters=num)\n",
    "    target_cluster, centroids, labels = kMeans.fit()\n",
    "    ss_error[num] = kMeans.inertia()\n",
    "\n",
    "# Elbow Method\n",
    "plt.figure(figsize = (12,8))\n",
    "plt.title('Elbow plot')\n",
    "plt.xlabel('Value of k')\n",
    "plt.ylabel('Sum of squared error')\n",
    "sns.pointplot(x=list(ss_error.keys()), y=list(ss_error.values()))"
   ]
  },
  {
   "cell_type": "code",
   "execution_count": 15,
   "id": "innovative-process",
   "metadata": {},
   "outputs": [
    {
     "name": "stdout",
     "output_type": "stream",
     "text": [
      "(200, 2)\n",
      "Cluster: 0, Size: 22\n",
      "Cluster: 1, Size: 39\n",
      "Cluster: 2, Size: 82\n",
      "Cluster: 3, Size: 22\n",
      "Cluster: 4, Size: 35\n"
     ]
    }
   ],
   "source": [
    "print(data.shape)\n",
    "K = 5\n",
    "kMeans = KMeansClustering(normalized_data_np, num_clusters=K)\n",
    "target_cluster, centroids, labels = kMeans.fit()\n",
    "\n",
    "for k in range(K):\n",
    "    print(\"Cluster: {0}, Size: {1}\".format(k, target_cluster[k].shape[0]))"
   ]
  },
  {
   "cell_type": "code",
   "execution_count": 16,
   "id": "billion-skirt",
   "metadata": {},
   "outputs": [
    {
     "data": {
      "image/png": "[encoded data removed]",
      "text/plain": [
       "<Figure size 864x576 with 1 Axes>"
      ]
     },
     "metadata": {
      "needs_background": "light"
     },
     "output_type": "display_data"
    }
   ],
   "source": [
    "# Visualising the clusters using plt\n",
    "\n",
    "colors =['maroon','blue','green','cyan','gold']\n",
    "labels=['c1','c2','c3','c4','c5']\n",
    "plt.figure(figsize = (12,8))\n",
    "\n",
    "for k in range(K):\n",
    "    plt.scatter(target_cluster[k][:,0], target_cluster[k][:,1], s = 100, c = colors[k], label = labels[k])\n",
    "\n",
    "plt.scatter(centroids[:,0], centroids[:,1], c = 'yellow', s = 300, label = 'Centroid')\n",
    "plt.xlabel(\"Annual Income\")\n",
    "plt.ylabel(\"Spending Score\")\n",
    "plt.legend()\n",
    "plt.show()"
   ]
  },
  {
   "cell_type": "markdown",
   "id": "fabulous-grade",
   "metadata": {},
   "source": [
    "## 2. Silhoutte method"
   ]
  },
  {
   "cell_type": "code",
   "execution_count": 17,
   "id": "handmade-coffee",
   "metadata": {},
   "outputs": [],
   "source": [
    "from functools import reduce\n",
    "from collections import defaultdict\n",
    "\n",
    "def calculate_silhoutte_score(num_cluster, dataset_np):\n",
    "    dataset = pd.DataFrame(dataset_np, columns = [\"Annual Income (k$)\", \"Spending Score (1-100)\", \"Cluster\"])\n",
    "    num_elements_cluster = dataset.groupby('Cluster').size()\n",
    "    score = []\n",
    "\n",
    "    '''\n",
    "        1. Start an outer loop, iterating over each featureset\n",
    "        2. Compare against rest of the feature set and calculate inter and intra distance\n",
    "        3. Find minimum inter cluster distance (A) and mean intra cluster distance (B)\n",
    "        4. Calculate silhoutte score as (A - B) / max(A, B)\n",
    "        5. Repeat the process for remaining featuresets and calculate average score\n",
    "    '''\n",
    "\n",
    "    i = 0\n",
    "    # Step 1, pick a feature set\n",
    "    for x in dataset_np:\n",
    "        x_cluster = dataset_np[i, 2]\n",
    "        inter_dist = defaultdict(lambda:0, {})\n",
    "        intra_dist = 0\n",
    "        inter_dist_list = []\n",
    "\n",
    "        # Step 2, compare against remaining feature sets\n",
    "        j = 0\n",
    "        for y in dataset_np:\n",
    "            if j == i:\n",
    "                j = j + 1\n",
    "                continue\n",
    "\n",
    "            y_cluster = dataset_np[j, 2]\n",
    "            distance = np.sqrt(np.sum(np.square(x[:-1] - y[:-1])))\n",
    "\n",
    "            if x_cluster == y_cluster: # Cluster same, add to intra-cluster distance\n",
    "                intra_dist += distance\n",
    "\n",
    "            else: # Cluster different, add to inter-cluster distance\n",
    "                inter_dist[y_cluster] += distance\n",
    "\n",
    "            j = j + 1\n",
    "\n",
    "        # Step 3\n",
    "        # a. Calculate mean inter cluster distance\n",
    "        for cluster_id, cluster_dist in inter_dist.items():\n",
    "            mean_dist = cluster_dist / num_elements_cluster[cluster_id]\n",
    "            inter_dist_list.append(mean_dist)\n",
    "\n",
    "        # b. Calculate mean intra cluster distance\n",
    "        mean_intra_dist = intra_dist / num_elements_cluster[x_cluster]\n",
    "\n",
    "        # c. Find the minimum inter cluster distance\n",
    "        min_inter_dist = min(inter_dist_list)\n",
    "\n",
    "        # Step 4, calculate silhoutte score\n",
    "        curr_score = (min_inter_dist - mean_intra_dist) / max(mean_intra_dist, min_inter_dist)\n",
    "        score.append(curr_score)\n",
    "\n",
    "        # Step 5, repeat the process\n",
    "        i = i + 1\n",
    "\n",
    "    average_silhouette = reduce(lambda x, y: x + y, score) / len(score)\n",
    "    print(\"Average silhoutte score for K={} is {}\".format(num_cluster, average_silhouette))\n",
    "\n",
    "    return average_silhouette"
   ]
  },
  {
   "cell_type": "code",
   "execution_count": 18,
   "id": "hidden-murder",
   "metadata": {},
   "outputs": [
    {
     "name": "stdout",
     "output_type": "stream",
     "text": [
      "Average silhoutte score for K=2 is 0.340079545634565\n",
      "Average silhoutte score for K=3 is 0.45797761756588506\n",
      "Average silhoutte score for K=4 is 0.5058273615792311\n",
      "Average silhoutte score for K=5 is 0.571541454835046\n",
      "Average silhoutte score for K=6 is 0.5334193876255522\n",
      "Average silhoutte score for K=7 is 0.4404005105986028\n",
      "Average silhoutte score for K=8 is 0.4555998443759128\n"
     ]
    }
   ],
   "source": [
    "'''Silhoutte Method'''\n",
    "\n",
    "scores = []\n",
    "clusters = [i for i in range(2,9)]\n",
    "\n",
    "for k in clusters:\n",
    "    kMeans = KMeansClustering(normalized_data_np, num_clusters=k)\n",
    "    target_cluster, centroids, cluster_labels = kMeans.fit()\n",
    "    data = np.append(normalized_data_np, cluster_labels, axis=1)\n",
    "    score = calculate_silhoutte_score(k, data)\n",
    "    scores.append(score)"
   ]
  },
  {
   "cell_type": "code",
   "execution_count": 19,
   "id": "infinite-morning",
   "metadata": {},
   "outputs": [
    {
     "data": {
      "text/plain": [
       "[<matplotlib.lines.Line2D at 0x7fe433f989d0>]"
      ]
     },
     "execution_count": 19,
     "metadata": {},
     "output_type": "execute_result"
    },
    {
     "data": {
      "image/png": "[encoded data removed]",
      "text/plain": [
       "<Figure size 432x288 with 1 Axes>"
      ]
     },
     "metadata": {
      "needs_background": "light"
     },
     "output_type": "display_data"
    }
   ],
   "source": [
    "fig, ax = plt.subplots()\n",
    "ax.set_xlabel('No. of clusters')\n",
    "ax.set_ylabel('Sillhoutte Score')\n",
    "ax.plot(clusters, scores)"
   ]
  },
  {
   "cell_type": "markdown",
   "id": "pointed-seven",
   "metadata": {},
   "source": [
    "# VII. Compare with Sklearn KMeans Clustering"
   ]
  },
  {
   "cell_type": "code",
   "execution_count": 20,
   "id": "delayed-ballet",
   "metadata": {},
   "outputs": [
    {
     "data": {
      "text/plain": [
       "<matplotlib.axes._subplots.AxesSubplot at 0x7fe43433d950>"
      ]
     },
     "execution_count": 20,
     "metadata": {},
     "output_type": "execute_result"
    },
    {
     "data": {
      "image/png": "[encoded data removed]",
      "text/plain": [
       "<Figure size 864x576 with 1 Axes>"
      ]
     },
     "metadata": {
      "needs_background": "light"
     },
     "output_type": "display_data"
    }
   ],
   "source": [
    "from sklearn.cluster import KMeans\n",
    "\n",
    "# Fit KMeans and calculate SSE for each *k*\n",
    "ss_error = {}\n",
    "\n",
    "for num in range(1,9):\n",
    "    kmeans = KMeans(n_clusters = num, random_state = 42)\n",
    "    kmeans.fit(normalized_data_df)\n",
    "    ss_error[num] = kmeans.inertia_\n",
    "    \n",
    "plt.figure(figsize = (12,8))\n",
    "plt.title('Elbow plot')\n",
    "plt.xlabel('Value of k')\n",
    "plt.ylabel('Sum of squared error')\n",
    "sns.pointplot(x=list(ss_error.keys()), y=list(ss_error.values()))"
   ]
  },
  {
   "cell_type": "code",
   "execution_count": 21,
   "id": "broke-reynolds",
   "metadata": {},
   "outputs": [],
   "source": [
    "kmeans = KMeans(n_clusters = K, random_state = 42)\n",
    "y_kmeans = kmeans.fit_predict(normalized_data_df)"
   ]
  },
  {
   "cell_type": "code",
   "execution_count": 22,
   "id": "retained-festival",
   "metadata": {},
   "outputs": [
    {
     "data": {
      "image/png": "[encoded data removed]",
      "text/plain": [
       "<Figure size 864x576 with 1 Axes>"
      ]
     },
     "metadata": {
      "needs_background": "light"
     },
     "output_type": "display_data"
    }
   ],
   "source": [
    "# Visualising the clusters using plt\n",
    "\n",
    "plt.figure(figsize = (12,8))\n",
    "for k in range(K):\n",
    "    plt.scatter(normalized_data_np[y_kmeans == k, 0], normalized_data_np[y_kmeans == k, 1], s = 100, c = colors[k], label = labels[k])\n",
    "\n",
    "plt.scatter(kmeans.cluster_centers_[:, 0], kmeans.cluster_centers_[:, 1], s = 300, c = 'yellow', label = 'Centroids')\n",
    "\n",
    "plt.title('Clusters of customers')\n",
    "plt.xlabel(\"Annual Income\")\n",
    "plt.ylabel(\"Spending Score\")\n",
    "plt.show()"
   ]
  },
  {
   "cell_type": "markdown",
   "id": "forced-injection",
   "metadata": {},
   "source": [
    "# VII. Inference:\n",
    "\n",
    "After comparing to the Sklearn K Means algorithm's Elbow plot, 5 clusters can better differentiate. The five groups are:\n",
    "1. Low income with High spending score(Cluster 1)\n",
    "2. High income with high spending score(Cluster 2)\n",
    "3. Medium income with medium spending score(Cluster 3)\n",
    "4. Low income with low spending score(Cluster 4)\n",
    "5. High income with Low spending score(Cluster 5)"
   ]
  },
  {
   "cell_type": "markdown",
   "id": "fresh-forestry",
   "metadata": {},
   "source": [
    "# VIII. Citations:\n",
    "\n",
    "1. https://www.kaggle.com/vjchoudhary7/customer-segmentation-tutorial-in-python\n",
    "2. https://www.wallstreetmojo.com/normalization-formula/\n",
    "3. https://scikit-learn.org/stable/modules/generated/sklearn.cluster.KMeans.html\n",
    "4. https://mathworld.wolfram.com/Distance.html\n",
    "5. https://medium.com/@jyotiyadav99111/selecting-optimal-number-of-clusters-in-kmeans-algorithm-silhouette-score-c0d9ebb11308#:~:text=Silhouette%20Coefficient%20%3D%20(x%2Dy)%2F%20max,varies%20between%20%2D1%20and%201\n",
    "6. https://en.wikipedia.org/wiki/Silhouette_(clustering)\n",
    "7. https://github.com/vipulmeh23/Silhouette-Calculation-Without-Library-Function/blob/master/sci.py"
   ]
  }
 ],
 "metadata": {
  "kernelspec": {
   "display_name": "Python 3",
   "language": "python",
   "name": "python3"
  },
  "language_info": {
   "codemirror_mode": {
    "name": "ipython",
    "version": 3
   },
   "file_extension": ".py",
   "mimetype": "text/x-python",
   "name": "python",
   "nbconvert_exporter": "python",
   "pygments_lexer": "ipython3",
   "version": "3.7.6"
  }
 },
 "nbformat": 4,
 "nbformat_minor": 5
}
